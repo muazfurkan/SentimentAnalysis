{
  "nbformat": 4,
  "nbformat_minor": 0,
  "metadata": {
    "colab": {
      "provenance": []
    },
    "kernelspec": {
      "name": "python3",
      "display_name": "Python 3"
    },
    "language_info": {
      "name": "python"
    }
  },
  "cells": [
    {
      "cell_type": "code",
      "execution_count": null,
      "metadata": {
        "id": "oGVn9PIH9kz8"
      },
      "outputs": [],
      "source": [
        "import pandas as pd\n",
        "import numpy as np\n",
        "from sklearn.svm import SVC\n",
        "import matplotlib.pyplot as plt\n",
        "from sklearn.preprocessing import OneHotEncoder"
      ]
    },
    {
      "cell_type": "code",
      "source": [
        "data = pd.read_excel('/content/LabeledText.xlsx')\n",
        "\n",
        "# y = data['LABEL']\n",
        "\n",
        "drop_neutral = data[ data['LABEL'] == 'neutral' ].index\n",
        "data.drop(drop_neutral, inplace = True)\n",
        "data.loc[data[\"LABEL\"] == \"negative\", \"LABEL\"] = 0\n",
        "data.loc[data[\"LABEL\"] == \"positive\", \"LABEL\"] = 1\n",
        "data = data.astype({\"LABEL\": int})\n",
        "\n",
        "caption = data['Caption']\n",
        "\n",
        "y = data['LABEL']\n",
        "print(y.count)\n",
        "data"
      ],
      "metadata": {
        "id": "T9y6Rn2mSRNK",
        "colab": {
          "base_uri": "https://localhost:8080/",
          "height": 632
        },
        "outputId": "a967f77b-2d49-4568-937f-9e51fbf39d0d"
      },
      "execution_count": null,
      "outputs": [
        {
          "output_type": "stream",
          "name": "stdout",
          "text": [
            "<bound method Series.count of 0       0\n",
            "1       0\n",
            "2       1\n",
            "4       1\n",
            "5       1\n",
            "       ..\n",
            "4862    0\n",
            "4863    0\n",
            "4864    1\n",
            "4865    1\n",
            "4868    1\n",
            "Name: LABEL, Length: 3098, dtype: int64>\n"
          ]
        },
        {
          "output_type": "execute_result",
          "data": {
            "text/plain": [
              "     File Name                                            Caption  LABEL\n",
              "0        1.txt      How I feel today #legday #jelly #aching #gym       0\n",
              "1       10.txt  @ArrivaTW absolute disgrace two carriages from...      0\n",
              "2      100.txt  This is my Valentine's from 1 of my nephews. I...      1\n",
              "4     1001.txt         Zoe's first love #Rattled @JohnnyHarper15       1\n",
              "5     1002.txt  Chaotic Love - giclee print ?65 at #art #love ...      1\n",
              "...        ...                                                ...    ...\n",
              "4862   993.txt  #Fanghorn forest or #Alder #woodland up Glen #...      0\n",
              "4863   994.txt  Where there¡¯s a whisk, there¡¯s a way. #power...      0\n",
              "4864   995.txt  OMG. Well done #Eskom! 'Man dies during #LoadS...      1\n",
              "4865   996.txt  Feelin' the love in here! #ValentinesDay #caring       1\n",
              "4868   999.txt  #colorsplash_bw #zealous Remedios #herbales y ...      1\n",
              "\n",
              "[3098 rows x 3 columns]"
            ],
            "text/html": [
              "\n",
              "  <div id=\"df-fce5f226-07b4-4b1f-bdfd-7c50b52a6569\">\n",
              "    <div class=\"colab-df-container\">\n",
              "      <div>\n",
              "<style scoped>\n",
              "    .dataframe tbody tr th:only-of-type {\n",
              "        vertical-align: middle;\n",
              "    }\n",
              "\n",
              "    .dataframe tbody tr th {\n",
              "        vertical-align: top;\n",
              "    }\n",
              "\n",
              "    .dataframe thead th {\n",
              "        text-align: right;\n",
              "    }\n",
              "</style>\n",
              "<table border=\"1\" class=\"dataframe\">\n",
              "  <thead>\n",
              "    <tr style=\"text-align: right;\">\n",
              "      <th></th>\n",
              "      <th>File Name</th>\n",
              "      <th>Caption</th>\n",
              "      <th>LABEL</th>\n",
              "    </tr>\n",
              "  </thead>\n",
              "  <tbody>\n",
              "    <tr>\n",
              "      <th>0</th>\n",
              "      <td>1.txt</td>\n",
              "      <td>How I feel today #legday #jelly #aching #gym</td>\n",
              "      <td>0</td>\n",
              "    </tr>\n",
              "    <tr>\n",
              "      <th>1</th>\n",
              "      <td>10.txt</td>\n",
              "      <td>@ArrivaTW absolute disgrace two carriages from...</td>\n",
              "      <td>0</td>\n",
              "    </tr>\n",
              "    <tr>\n",
              "      <th>2</th>\n",
              "      <td>100.txt</td>\n",
              "      <td>This is my Valentine's from 1 of my nephews. I...</td>\n",
              "      <td>1</td>\n",
              "    </tr>\n",
              "    <tr>\n",
              "      <th>4</th>\n",
              "      <td>1001.txt</td>\n",
              "      <td>Zoe's first love #Rattled @JohnnyHarper15</td>\n",
              "      <td>1</td>\n",
              "    </tr>\n",
              "    <tr>\n",
              "      <th>5</th>\n",
              "      <td>1002.txt</td>\n",
              "      <td>Chaotic Love - giclee print ?65 at #art #love ...</td>\n",
              "      <td>1</td>\n",
              "    </tr>\n",
              "    <tr>\n",
              "      <th>...</th>\n",
              "      <td>...</td>\n",
              "      <td>...</td>\n",
              "      <td>...</td>\n",
              "    </tr>\n",
              "    <tr>\n",
              "      <th>4862</th>\n",
              "      <td>993.txt</td>\n",
              "      <td>#Fanghorn forest or #Alder #woodland up Glen #...</td>\n",
              "      <td>0</td>\n",
              "    </tr>\n",
              "    <tr>\n",
              "      <th>4863</th>\n",
              "      <td>994.txt</td>\n",
              "      <td>Where there¡¯s a whisk, there¡¯s a way. #power...</td>\n",
              "      <td>0</td>\n",
              "    </tr>\n",
              "    <tr>\n",
              "      <th>4864</th>\n",
              "      <td>995.txt</td>\n",
              "      <td>OMG. Well done #Eskom! 'Man dies during #LoadS...</td>\n",
              "      <td>1</td>\n",
              "    </tr>\n",
              "    <tr>\n",
              "      <th>4865</th>\n",
              "      <td>996.txt</td>\n",
              "      <td>Feelin' the love in here! #ValentinesDay #caring</td>\n",
              "      <td>1</td>\n",
              "    </tr>\n",
              "    <tr>\n",
              "      <th>4868</th>\n",
              "      <td>999.txt</td>\n",
              "      <td>#colorsplash_bw #zealous Remedios #herbales y ...</td>\n",
              "      <td>1</td>\n",
              "    </tr>\n",
              "  </tbody>\n",
              "</table>\n",
              "<p>3098 rows × 3 columns</p>\n",
              "</div>\n",
              "      <button class=\"colab-df-convert\" onclick=\"convertToInteractive('df-fce5f226-07b4-4b1f-bdfd-7c50b52a6569')\"\n",
              "              title=\"Convert this dataframe to an interactive table.\"\n",
              "              style=\"display:none;\">\n",
              "        \n",
              "  <svg xmlns=\"http://www.w3.org/2000/svg\" height=\"24px\"viewBox=\"0 0 24 24\"\n",
              "       width=\"24px\">\n",
              "    <path d=\"M0 0h24v24H0V0z\" fill=\"none\"/>\n",
              "    <path d=\"M18.56 5.44l.94 2.06.94-2.06 2.06-.94-2.06-.94-.94-2.06-.94 2.06-2.06.94zm-11 1L8.5 8.5l.94-2.06 2.06-.94-2.06-.94L8.5 2.5l-.94 2.06-2.06.94zm10 10l.94 2.06.94-2.06 2.06-.94-2.06-.94-.94-2.06-.94 2.06-2.06.94z\"/><path d=\"M17.41 7.96l-1.37-1.37c-.4-.4-.92-.59-1.43-.59-.52 0-1.04.2-1.43.59L10.3 9.45l-7.72 7.72c-.78.78-.78 2.05 0 2.83L4 21.41c.39.39.9.59 1.41.59.51 0 1.02-.2 1.41-.59l7.78-7.78 2.81-2.81c.8-.78.8-2.07 0-2.86zM5.41 20L4 18.59l7.72-7.72 1.47 1.35L5.41 20z\"/>\n",
              "  </svg>\n",
              "      </button>\n",
              "      \n",
              "  <style>\n",
              "    .colab-df-container {\n",
              "      display:flex;\n",
              "      flex-wrap:wrap;\n",
              "      gap: 12px;\n",
              "    }\n",
              "\n",
              "    .colab-df-convert {\n",
              "      background-color: #E8F0FE;\n",
              "      border: none;\n",
              "      border-radius: 50%;\n",
              "      cursor: pointer;\n",
              "      display: none;\n",
              "      fill: #1967D2;\n",
              "      height: 32px;\n",
              "      padding: 0 0 0 0;\n",
              "      width: 32px;\n",
              "    }\n",
              "\n",
              "    .colab-df-convert:hover {\n",
              "      background-color: #E2EBFA;\n",
              "      box-shadow: 0px 1px 2px rgba(60, 64, 67, 0.3), 0px 1px 3px 1px rgba(60, 64, 67, 0.15);\n",
              "      fill: #174EA6;\n",
              "    }\n",
              "\n",
              "    [theme=dark] .colab-df-convert {\n",
              "      background-color: #3B4455;\n",
              "      fill: #D2E3FC;\n",
              "    }\n",
              "\n",
              "    [theme=dark] .colab-df-convert:hover {\n",
              "      background-color: #434B5C;\n",
              "      box-shadow: 0px 1px 3px 1px rgba(0, 0, 0, 0.15);\n",
              "      filter: drop-shadow(0px 1px 2px rgba(0, 0, 0, 0.3));\n",
              "      fill: #FFFFFF;\n",
              "    }\n",
              "  </style>\n",
              "\n",
              "      <script>\n",
              "        const buttonEl =\n",
              "          document.querySelector('#df-fce5f226-07b4-4b1f-bdfd-7c50b52a6569 button.colab-df-convert');\n",
              "        buttonEl.style.display =\n",
              "          google.colab.kernel.accessAllowed ? 'block' : 'none';\n",
              "\n",
              "        async function convertToInteractive(key) {\n",
              "          const element = document.querySelector('#df-fce5f226-07b4-4b1f-bdfd-7c50b52a6569');\n",
              "          const dataTable =\n",
              "            await google.colab.kernel.invokeFunction('convertToInteractive',\n",
              "                                                     [key], {});\n",
              "          if (!dataTable) return;\n",
              "\n",
              "          const docLinkHtml = 'Like what you see? Visit the ' +\n",
              "            '<a target=\"_blank\" href=https://colab.research.google.com/notebooks/data_table.ipynb>data table notebook</a>'\n",
              "            + ' to learn more about interactive tables.';\n",
              "          element.innerHTML = '';\n",
              "          dataTable['output_type'] = 'display_data';\n",
              "          await google.colab.output.renderOutput(dataTable, element);\n",
              "          const docLink = document.createElement('div');\n",
              "          docLink.innerHTML = docLinkHtml;\n",
              "          element.appendChild(docLink);\n",
              "        }\n",
              "      </script>\n",
              "    </div>\n",
              "  </div>\n",
              "  "
            ]
          },
          "metadata": {},
          "execution_count": 5
        }
      ]
    },
    {
      "cell_type": "code",
      "source": [
        "import re\n",
        "\n",
        "train_data = []\n",
        "example_caption = ['Today is a great day!!', \n",
        "                   'I had a very bad day.',\n",
        "                   'Please do not make me sad.',\n",
        "                   'Be careful, they are coming.',\n",
        "                   'He loves playing games! and you?',\n",
        "                   'Had a very good meal at dinner :(',\n",
        "                   'I love you Istanbul, you are a very beautiful city.',\n",
        "                   \"I'm so confused, what can I do about it? @muazfurkan\",\n",
        "                   'What are the recommendations for going abroad?',\n",
        "                   'Days of shit await us.']\n",
        "example_data = []\n",
        "\n",
        "def cleaner(caption):\n",
        "  pattern = r'[^\\w\\s]|_'\n",
        "\n",
        "  for text in caption:\n",
        "    text = re.sub(pattern, '', text)\n",
        "    text = text.strip().split(' ')\n",
        "    for i in range(len(text)):\n",
        "      if text[i].startswith('http'):\n",
        "        del text[i]\n",
        "        break\n",
        "    train_data.append(text)\n",
        "  \n",
        "\n",
        "\n",
        "def cleaner2(caption):\n",
        "  pattern = r'[^\\w\\s]|_'\n",
        "  for text in caption:\n",
        "    text = re.sub(pattern, '', text)\n",
        "    text = text.strip().split(' ')\n",
        "    example_data.append(text)\n",
        "  print(example_data)\n",
        "\n",
        "if __name__ == \"__main__\":\n",
        "   cleaner(caption)\n",
        "   cleaner2(example_caption)"
      ],
      "metadata": {
        "id": "mtYeFT-OUVhC",
        "colab": {
          "base_uri": "https://localhost:8080/"
        },
        "outputId": "a4f4a6ac-7bb4-422e-d527-39f6dc0ffe9b"
      },
      "execution_count": null,
      "outputs": [
        {
          "output_type": "stream",
          "name": "stdout",
          "text": [
            "[['Today', 'is', 'a', 'great', 'day'], ['I', 'had', 'a', 'very', 'bad', 'day'], ['Please', 'do', 'not', 'make', 'me', 'sad'], ['Be', 'careful', 'they', 'are', 'coming'], ['He', 'loves', 'playing', 'games', 'and', 'you'], ['Had', 'a', 'very', 'good', 'meal', 'at', 'dinner'], ['I', 'love', 'you', 'Istanbul', 'you', 'are', 'a', 'very', 'beautiful', 'city'], ['Im', 'so', 'confused', 'what', 'can', 'I', 'do', 'about', 'it', 'muazfurkan'], ['What', 'are', 'the', 'recommendations', 'for', 'going', 'abroad'], ['Days', 'of', 'shit', 'await', 'us']]\n"
          ]
        }
      ]
    },
    {
      "cell_type": "code",
      "source": [
        "from gensim.scripts.glove2word2vec import glove2word2vec\n",
        "from gensim.models import KeyedVectors\n",
        "\n",
        "glove_input_file = 'glove.6B.100d.txt'\n",
        "word2vec_output_file = 'glove.6B.100d.word2vec.txt'\n",
        "glove2word2vec(glove_input_file, word2vec_output_file)\n",
        "\n",
        "model = KeyedVectors.load_word2vec_format(word2vec_output_file, binary=False)\n"
      ],
      "metadata": {
        "id": "bX2ZBDzdn2nh"
      },
      "execution_count": null,
      "outputs": []
    },
    {
      "cell_type": "code",
      "source": [
        "from gensim.models import Word2Vec\n",
        "\n",
        "def vectorize(data):\n",
        "  sentence_vectors = []\n",
        "  for sentence in data:\n",
        "    sentence_vector = np.array([])\n",
        "    for word in sentence:\n",
        "      try:\n",
        "        word_vector = model[word]\n",
        "        sentence_vector = np.concatenate((sentence_vector, word_vector))\n",
        "      except KeyError:\n",
        "        print('Word not in vocabulary: {}'.format(word))\n",
        "    sentence_vectors.append(sentence_vector)\n",
        "  return sentence_vectors\n",
        "\n",
        "\n",
        "vectors = vectorize(train_data)\n",
        "print(len(vectors))"
      ],
      "metadata": {
        "id": "l_JT61Q035iZ"
      },
      "execution_count": null,
      "outputs": []
    },
    {
      "cell_type": "code",
      "source": [
        "padded_vectors = []\n",
        "lengths = []\n",
        "pad_length = []\n",
        "\n",
        "for vec in vectors:\n",
        "  lengths.append(len(vec))\n",
        "\n",
        "max_len = max(lengths)\n",
        "vectors = np.array(vectors)\n",
        "padded_vectors = np.zeros((len(vectors), max_len))\n",
        "\n",
        "def padding(vectors):\n",
        "  for i, vec in enumerate(vectors):\n",
        "      padded_vectors[i, :vec.shape[0]] = vec\n",
        "  return padded_vectors\n",
        "\n",
        "vectors = padding(vectors)"
      ],
      "metadata": {
        "id": "8pAnAsKmGy4U",
        "colab": {
          "base_uri": "https://localhost:8080/"
        },
        "outputId": "e630c839-d00f-4ece-a440-4ad260acd910"
      },
      "execution_count": null,
      "outputs": [
        {
          "output_type": "stream",
          "name": "stderr",
          "text": [
            "<ipython-input-21-c4433ec4e2e9>:9: VisibleDeprecationWarning: Creating an ndarray from ragged nested sequences (which is a list-or-tuple of lists-or-tuples-or ndarrays with different lengths or shapes) is deprecated. If you meant to do this, you must specify 'dtype=object' when creating the ndarray.\n",
            "  vectors = np.array(vectors)\n"
          ]
        }
      ]
    },
    {
      "cell_type": "code",
      "source": [
        "from sklearn.metrics._plot.confusion_matrix import ConfusionMatrixDisplay\n",
        "from sklearn.metrics import f1_score, roc_auc_score\n",
        "from sklearn.model_selection import KFold, cross_val_score\n",
        "from sklearn.ensemble import RandomForestClassifier\n",
        "\n",
        "kf = KFold(n_splits=5, shuffle=True, random_state=42)\n",
        "\n",
        "for i, (train_index, test_index) in enumerate(kf.split(vectors, y)):\n",
        "\n",
        "  X_train, X_test = vectors[train_index], vectors[test_index]\n",
        "  y_train, y_test = y.iloc[train_index], y.iloc[test_index]\n",
        "\n",
        "  rf = RandomForestClassifier(n_estimators = 10)\n",
        "  rf.fit(X_train, y_train)\n",
        "  y_pred = rf.predict(X_test)\n",
        "  pred_prob = rf.predict_proba(X_test)[:, 1]\n",
        "\n",
        "  f1 = f1_score(y_test, y_pred)\n",
        "  roc_auc = roc_auc_score(y_test, pred_prob)\n",
        "\n",
        "  print('f1 : ', f1)\n",
        "  print('roc-auc : ', roc_auc)"
      ],
      "metadata": {
        "colab": {
          "base_uri": "https://localhost:8080/"
        },
        "id": "m13wmCFZEQih",
        "outputId": "1f37b88d-d17e-4474-9ed1-0868e947f13a"
      },
      "execution_count": null,
      "outputs": [
        {
          "output_type": "stream",
          "name": "stdout",
          "text": [
            "f1 :  0.6329113924050632\n",
            "roc-auc :  0.6793929346012679\n",
            "f1 :  0.6440677966101694\n",
            "roc-auc :  0.6645205279813459\n",
            "f1 :  0.652694610778443\n",
            "roc-auc :  0.6744169042918768\n",
            "f1 :  0.6234177215189873\n",
            "roc-auc :  0.6602854122621564\n",
            "f1 :  0.6275752773375596\n",
            "roc-auc :  0.6696854196854196\n"
          ]
        }
      ]
    },
    {
      "cell_type": "code",
      "source": [
        "example_vectors = vectorize(example_data)\n",
        "example_vectors = padding(example_vectors)"
      ],
      "metadata": {
        "id": "eWdRcQE18ZmA",
        "colab": {
          "base_uri": "https://localhost:8080/"
        },
        "outputId": "da9428a6-f014-4404-9838-bf2bc0a5dcbb"
      },
      "execution_count": null,
      "outputs": [
        {
          "output_type": "stream",
          "name": "stdout",
          "text": [
            "Word not in vocabulary: Today\n",
            "Word not in vocabulary: I\n",
            "Word not in vocabulary: Please\n",
            "Word not in vocabulary: Be\n",
            "Word not in vocabulary: He\n",
            "Word not in vocabulary: Had\n",
            "Word not in vocabulary: I\n",
            "Word not in vocabulary: Istanbul\n",
            "Word not in vocabulary: Im\n",
            "Word not in vocabulary: I\n",
            "Word not in vocabulary: muazfurkan\n",
            "Word not in vocabulary: What\n",
            "Word not in vocabulary: Days\n"
          ]
        }
      ]
    },
    {
      "cell_type": "code",
      "source": [
        "new_pred = rf.predict(example_vectors)"
      ],
      "metadata": {
        "id": "C-rDPq1p8lgH"
      },
      "execution_count": null,
      "outputs": []
    }
  ]
}